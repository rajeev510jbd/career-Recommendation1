{
 "cells": [
  {
   "cell_type": "code",
   "execution_count": 2,
   "id": "e193c22d-7379-4c80-805a-0074c022248e",
   "metadata": {},
   "outputs": [],
   "source": [
    "import pandas as pd\n",
    "from sklearn.preprocessing import LabelEncoder, StandardScaler\n",
    "from sklearn.model_selection import train_test_split\n",
    "from sklearn.metrics import accuracy_score, classification_report, confusion_matrix\n",
    "from sklearn.ensemble import RandomForestClassifier\n",
    "from imblearn.over_sampling import SMOTE\n",
    "import pickle\n",
    "import numpy as np\n",
    "import os\n"
   ]
  },
  {
   "cell_type": "code",
   "execution_count": 3,
   "id": "887e45fe-65bc-4b3d-9a21-fcef9b71ebb6",
   "metadata": {},
   "outputs": [],
   "source": [
    "data = pd.read_csv(\"study.csv\")"
   ]
  },
  {
   "cell_type": "code",
   "execution_count": 4,
   "id": "7f0a7e8c-3ea3-499f-b850-4268bb607e7f",
   "metadata": {},
   "outputs": [],
   "source": [
    "data.rename(columns={\n",
    "    'Video Game': 'Video_Game',\n",
    "    'Electricity Components': 'Electricity_Components',\n",
    "    'Mechanic Parts': 'Mechanic_Parts',\n",
    "    'Computer Parts': 'Computer_Parts',\n",
    "    'Historic Collection': 'Historic_Collection',\n",
    "    'Bussiness Education': 'Business_Education',\n",
    "    'Content writing': 'Content_Writing',\n",
    "    'Listening Music': 'Listening_to_Music',\n",
    "    'Asrtology': 'Astrology',\n",
    "    'Engeeniering': 'Engineering',\n",
    "    'Pharmisist': 'Pharmacist',\n",
    "    'Bussiness': 'Business',\n",
    "    'Psycology': 'Psychology',\n",
    "}, inplace=True)"
   ]
  },
  {
   "cell_type": "code",
   "execution_count": 5,
   "id": "7cf65234-454e-467a-a8b5-1086f45537b5",
   "metadata": {},
   "outputs": [],
   "source": [
    "data.drop(columns=['Makeup','Urdu','Other Language'], axis=1, inplace=True)"
   ]
  },
  {
   "cell_type": "code",
   "execution_count": 52,
   "id": "7fe42fee-0f10-471b-bbe3-5d11a1ca7b33",
   "metadata": {},
   "outputs": [],
   "source": [
    "# Separate features and labels\n",
    "X = data.drop('Courses', axis=1)\n",
    "y = data['Courses']"
   ]
  },
  {
   "cell_type": "code",
   "execution_count": 6,
   "id": "4e4d27cf-8c76-41d4-9839-77a8e1534f84",
   "metadata": {},
   "outputs": [
    {
     "ename": "NameError",
     "evalue": "name 'X' is not defined",
     "output_type": "error",
     "traceback": [
      "\u001b[1;31m---------------------------------------------------------------------------\u001b[0m",
      "\u001b[1;31mNameError\u001b[0m                                 Traceback (most recent call last)",
      "Cell \u001b[1;32mIn[6], line 3\u001b[0m\n\u001b[0;32m      1\u001b[0m \u001b[38;5;66;03m# Apply SMOTE\u001b[39;00m\n\u001b[0;32m      2\u001b[0m smote \u001b[38;5;241m=\u001b[39m SMOTE(random_state\u001b[38;5;241m=\u001b[39m\u001b[38;5;241m42\u001b[39m)\n\u001b[1;32m----> 3\u001b[0m X_resampled, y_resampled \u001b[38;5;241m=\u001b[39m smote\u001b[38;5;241m.\u001b[39mfit_resample(\u001b[43mX\u001b[49m, y)\n",
      "\u001b[1;31mNameError\u001b[0m: name 'X' is not defined"
     ]
    }
   ],
   "source": [
    "# Apply SMOTE\n",
    "smote = SMOTE(random_state=42)\n",
    "X_resampled, y_resampled = smote.fit_resample(X, y)"
   ]
  },
  {
   "cell_type": "code",
   "execution_count": null,
   "id": "9858466e-abb1-4499-87f7-b69adf4b8623",
   "metadata": {},
   "outputs": [],
   "source": [
    "X_train, X_test, y_train, y_test = train_test_split(X_resampled, y_resampled, test_size=0.2, random_state=42)\n"
   ]
  },
  {
   "cell_type": "code",
   "execution_count": null,
   "id": "05575407-56b7-41a6-bd5a-f679d1796239",
   "metadata": {},
   "outputs": [],
   "source": [
    "scaler = StandardScaler()\n",
    "X_train_scaled = scaler.fit_transform(X_train)\n",
    "X_test_scaled = scaler.transform(X_test)"
   ]
  },
  {
   "cell_type": "code",
   "execution_count": null,
   "id": "ec0d17ea-cec6-4bdd-a76e-ddec6148c0dc",
   "metadata": {},
   "outputs": [],
   "source": [
    "# Train model\n",
    "model = RandomForestClassifier()\n",
    "model.fit(X_train_scaled, y_train)\n",
    "y_pred = model.predict(X_test_scaled)\n"
   ]
  },
  {
   "cell_type": "code",
   "execution_count": null,
   "id": "0a27dc96-e7d5-40d6-92b6-c8ac1697534e",
   "metadata": {},
   "outputs": [],
   "source": [
    "# Evaluation\n",
    "print(\"Accuracy:\", accuracy_score(y_test, y_pred))\n",
    "print(\"Report:\\n\", classification_report(y_test, y_pred))\n",
    "print(\"Confusion Matrix:\\n\", confusion_matrix(y_test, y_pred))"
   ]
  },
  {
   "cell_type": "code",
   "execution_count": null,
   "id": "c0210930-7acf-4d91-b847-75bd53c04c65",
   "metadata": {},
   "outputs": [],
   "source": [
    "# Encode labels and save encoder\n",
    "le = LabelEncoder()\n",
    "y_train_encoded = le.fit_transform(y_train)\n"
   ]
  },
  {
   "cell_type": "code",
   "execution_count": null,
   "id": "ccf512d9-0cd7-4243-9f21-660b9c78023e",
   "metadata": {},
   "outputs": [],
   "source": [
    "# Ensure Models directory exists\n",
    "if not os.path.exists(\"Models\"):\n",
    "    os.makedirs(\"Models\")"
   ]
  },
  {
   "cell_type": "code",
   "execution_count": 1,
   "id": "ed7113a8-23db-447c-b012-d4d35d4cfff9",
   "metadata": {},
   "outputs": [
    {
     "ename": "NameError",
     "evalue": "name 'pickle' is not defined",
     "output_type": "error",
     "traceback": [
      "\u001b[1;31m---------------------------------------------------------------------------\u001b[0m",
      "\u001b[1;31mNameError\u001b[0m                                 Traceback (most recent call last)",
      "Cell \u001b[1;32mIn[1], line 2\u001b[0m\n\u001b[0;32m      1\u001b[0m \u001b[38;5;66;03m# Save model, scaler, and encoder\u001b[39;00m\n\u001b[1;32m----> 2\u001b[0m \u001b[43mpickle\u001b[49m\u001b[38;5;241m.\u001b[39mdump(scaler, \u001b[38;5;28mopen\u001b[39m(\u001b[38;5;124m\"\u001b[39m\u001b[38;5;124mModels/scaler.pkl\u001b[39m\u001b[38;5;124m\"\u001b[39m, \u001b[38;5;124m'\u001b[39m\u001b[38;5;124mwb\u001b[39m\u001b[38;5;124m'\u001b[39m))\n\u001b[0;32m      3\u001b[0m pickle\u001b[38;5;241m.\u001b[39mdump(model, \u001b[38;5;28mopen\u001b[39m(\u001b[38;5;124m\"\u001b[39m\u001b[38;5;124mModels/model.pkl\u001b[39m\u001b[38;5;124m\"\u001b[39m, \u001b[38;5;124m'\u001b[39m\u001b[38;5;124mwb\u001b[39m\u001b[38;5;124m'\u001b[39m))\n\u001b[0;32m      4\u001b[0m pickle\u001b[38;5;241m.\u001b[39mdump(le, \u001b[38;5;28mopen\u001b[39m(\u001b[38;5;124m\"\u001b[39m\u001b[38;5;124mModels/label_encoder.pkl\u001b[39m\u001b[38;5;124m\"\u001b[39m, \u001b[38;5;124m'\u001b[39m\u001b[38;5;124mwb\u001b[39m\u001b[38;5;124m'\u001b[39m))\n",
      "\u001b[1;31mNameError\u001b[0m: name 'pickle' is not defined"
     ]
    }
   ],
   "source": [
    "# Save model, scaler, and encoder\n",
    "pickle.dump(scaler, open(\"Models/scaler.pkl\", 'wb'))\n",
    "pickle.dump(model, open(\"Models/model.pkl\", 'wb'))\n",
    "pickle.dump(le, open(\"Models/label_encoder.pkl\", 'wb'))"
   ]
  },
  {
   "cell_type": "code",
   "execution_count": 8,
   "id": "e7185c45-24ce-4b29-9812-c92f9a15edf6",
   "metadata": {},
   "outputs": [],
   "source": [
    "def Recommendations(\n",
    "    Drawing, Dancing, Singing, Sports, Video_Game, Acting, Travelling, Gardening,\n",
    "    Animals, Photography, Teaching, Exercise, Coding, Electricity_Components,\n",
    "    Mechanic_Parts, Computer_Parts, Researching, Architecture, Historic_Collection,\n",
    "    Botany, Zoology, Physics, Accounting, Economics, Sociology, Geography, Psychology,\n",
    "    History, Science, Business_Education, Chemistry, Mathematics, Biology,\n",
    "    Designing, Content_Writing, Crafting, Literature, Reading, Cartooning, Debating,\n",
    "    Astrology, Hindi, French, English, Solving_Puzzles, Gymnastics, Yoga, Engineering,\n",
    "    Doctor, Pharmacist, Cycling, Knitting, Director, Journalism, Business, Listening_to_Music\n",
    "):\n",
    "    scaler = pickle.load(open(\"Models/scaler.pkl\", 'rb'))\n",
    "    model = pickle.load(open(\"Models/model.pkl\", 'rb'))\n",
    "    le = pickle.load(open(\"Models/label_encoder.pkl\", 'rb'))\n",
    "\n",
    "    feature_array = np.array([[\n",
    "        Drawing, Dancing, Singing, Sports, Video_Game, Acting, Travelling, Gardening,\n",
    "        Animals, Photography, Teaching, Exercise, Coding, Electricity_Components,\n",
    "        Mechanic_Parts, Computer_Parts, Researching, Architecture, Historic_Collection,\n",
    "        Botany, Zoology, Physics, Accounting, Economics, Sociology, Geography, Psychology,\n",
    "        History, Science, Business_Education, Chemistry, Mathematics, Biology,\n",
    "        Designing, Content_Writing, Crafting, Literature, Reading, Cartooning, Debating,\n",
    "        Astrology, Hindi, French, English, Solving_Puzzles, Gymnastics, Yoga, Engineering,\n",
    "        Doctor, Pharmacist, Cycling, Knitting, Director, Journalism, Business, Listening_to_Music\n",
    "    ]])\n",
    "    scaled_features = scaler.transform(feature_array)\n",
    "    probabilities = model.predict_proba(scaled_features)\n",
    "    top_classes_idx = np.argsort(-probabilities[0])[:10]\n",
    "    top_classes_names_probs = [(le.inverse_transform([idx])[0], probabilities[0][idx]) for idx in top_classes_idx]\n",
    "    \n",
    "    return top_classes_names_probs"
   ]
  },
  {
   "cell_type": "code",
   "execution_count": 5,
   "id": "93719ac3-40f6-400c-81f9-779423ec5cc5",
   "metadata": {},
   "outputs": [
    {
     "ename": "NameError",
     "evalue": "name 'Recommendations' is not defined",
     "output_type": "error",
     "traceback": [
      "\u001b[1;31m---------------------------------------------------------------------------\u001b[0m",
      "\u001b[1;31mNameError\u001b[0m                                 Traceback (most recent call last)",
      "Cell \u001b[1;32mIn[5], line 1\u001b[0m\n\u001b[1;32m----> 1\u001b[0m final_recommendations \u001b[38;5;241m=\u001b[39m \u001b[43mRecommendations\u001b[49m(\n\u001b[0;32m      2\u001b[0m     Drawing\u001b[38;5;241m=\u001b[39m\u001b[38;5;241m0\u001b[39m, Dancing\u001b[38;5;241m=\u001b[39m\u001b[38;5;241m0\u001b[39m, Singing\u001b[38;5;241m=\u001b[39m\u001b[38;5;241m0\u001b[39m, Sports\u001b[38;5;241m=\u001b[39m\u001b[38;5;241m0\u001b[39m, Video_Game\u001b[38;5;241m=\u001b[39m\u001b[38;5;241m0\u001b[39m, Acting\u001b[38;5;241m=\u001b[39m\u001b[38;5;241m0\u001b[39m, Travelling\u001b[38;5;241m=\u001b[39m\u001b[38;5;241m0\u001b[39m, \n\u001b[0;32m      3\u001b[0m     Gardening\u001b[38;5;241m=\u001b[39m\u001b[38;5;241m0\u001b[39m, Animals\u001b[38;5;241m=\u001b[39m\u001b[38;5;241m0\u001b[39m, Photography\u001b[38;5;241m=\u001b[39m\u001b[38;5;241m0\u001b[39m, Teaching\u001b[38;5;241m=\u001b[39m\u001b[38;5;241m0\u001b[39m, Exercise\u001b[38;5;241m=\u001b[39m\u001b[38;5;241m0\u001b[39m, Coding\u001b[38;5;241m=\u001b[39m\u001b[38;5;241m0\u001b[39m, \n\u001b[0;32m      4\u001b[0m     Electricity_Components\u001b[38;5;241m=\u001b[39m\u001b[38;5;241m0\u001b[39m, Mechanic_Parts\u001b[38;5;241m=\u001b[39m\u001b[38;5;241m0\u001b[39m, Computer_Parts\u001b[38;5;241m=\u001b[39m\u001b[38;5;241m0\u001b[39m, Researching\u001b[38;5;241m=\u001b[39m\u001b[38;5;241m0\u001b[39m, \n\u001b[0;32m      5\u001b[0m     Architecture\u001b[38;5;241m=\u001b[39m\u001b[38;5;241m0\u001b[39m, Historic_Collection\u001b[38;5;241m=\u001b[39m\u001b[38;5;241m1\u001b[39m, Botany\u001b[38;5;241m=\u001b[39m\u001b[38;5;241m0\u001b[39m, Zoology\u001b[38;5;241m=\u001b[39m\u001b[38;5;241m0\u001b[39m, Physics\u001b[38;5;241m=\u001b[39m\u001b[38;5;241m0\u001b[39m, \n\u001b[0;32m      6\u001b[0m     Accounting\u001b[38;5;241m=\u001b[39m\u001b[38;5;241m0\u001b[39m, Economics\u001b[38;5;241m=\u001b[39m\u001b[38;5;241m0\u001b[39m, Sociology\u001b[38;5;241m=\u001b[39m\u001b[38;5;241m0\u001b[39m, Geography\u001b[38;5;241m=\u001b[39m\u001b[38;5;241m0\u001b[39m, Psychology\u001b[38;5;241m=\u001b[39m\u001b[38;5;241m0\u001b[39m, History\u001b[38;5;241m=\u001b[39m\u001b[38;5;241m0\u001b[39m, \n\u001b[0;32m      7\u001b[0m     Science\u001b[38;5;241m=\u001b[39m\u001b[38;5;241m0\u001b[39m, Business_Education\u001b[38;5;241m=\u001b[39m\u001b[38;5;241m1\u001b[39m, Chemistry\u001b[38;5;241m=\u001b[39m\u001b[38;5;241m0\u001b[39m, Mathematics\u001b[38;5;241m=\u001b[39m\u001b[38;5;241m0\u001b[39m, Biology\u001b[38;5;241m=\u001b[39m\u001b[38;5;241m0\u001b[39m, \n\u001b[0;32m      8\u001b[0m     Designing\u001b[38;5;241m=\u001b[39m\u001b[38;5;241m0\u001b[39m, Content_Writing\u001b[38;5;241m=\u001b[39m\u001b[38;5;241m0\u001b[39m, Crafting\u001b[38;5;241m=\u001b[39m\u001b[38;5;241m0\u001b[39m, Literature\u001b[38;5;241m=\u001b[39m\u001b[38;5;241m0\u001b[39m, Reading\u001b[38;5;241m=\u001b[39m\u001b[38;5;241m0\u001b[39m, \n\u001b[0;32m      9\u001b[0m     Cartooning\u001b[38;5;241m=\u001b[39m\u001b[38;5;241m0\u001b[39m, Debating\u001b[38;5;241m=\u001b[39m\u001b[38;5;241m0\u001b[39m, Astrology\u001b[38;5;241m=\u001b[39m\u001b[38;5;241m0\u001b[39m, Hindi\u001b[38;5;241m=\u001b[39m\u001b[38;5;241m0\u001b[39m, French\u001b[38;5;241m=\u001b[39m\u001b[38;5;241m0\u001b[39m, English\u001b[38;5;241m=\u001b[39m\u001b[38;5;241m0\u001b[39m, \n\u001b[0;32m     10\u001b[0m     Solving_Puzzles\u001b[38;5;241m=\u001b[39m\u001b[38;5;241m1\u001b[39m, Gymnastics\u001b[38;5;241m=\u001b[39m\u001b[38;5;241m0\u001b[39m, Yoga\u001b[38;5;241m=\u001b[39m\u001b[38;5;241m0\u001b[39m, Engineering\u001b[38;5;241m=\u001b[39m\u001b[38;5;241m0\u001b[39m, Doctor\u001b[38;5;241m=\u001b[39m\u001b[38;5;241m0\u001b[39m, Pharmacist\u001b[38;5;241m=\u001b[39m\u001b[38;5;241m0\u001b[39m, \n\u001b[0;32m     11\u001b[0m     Cycling\u001b[38;5;241m=\u001b[39m\u001b[38;5;241m0\u001b[39m, Knitting\u001b[38;5;241m=\u001b[39m\u001b[38;5;241m0\u001b[39m, Director\u001b[38;5;241m=\u001b[39m\u001b[38;5;241m0\u001b[39m, Journalism\u001b[38;5;241m=\u001b[39m\u001b[38;5;241m0\u001b[39m, Business\u001b[38;5;241m=\u001b[39m\u001b[38;5;241m0\u001b[39m, Listening_to_Music\u001b[38;5;241m=\u001b[39m\u001b[38;5;241m0\u001b[39m\n\u001b[0;32m     12\u001b[0m )\n",
      "\u001b[1;31mNameError\u001b[0m: name 'Recommendations' is not defined"
     ]
    }
   ],
   "source": [
    "final_recommendations = Recommendations(\n",
    "    Drawing=0, Dancing=0, Singing=0, Sports=0, Video_Game=0, Acting=0, Travelling=0, \n",
    "    Gardening=0, Animals=0, Photography=0, Teaching=0, Exercise=0, Coding=0, \n",
    "    Electricity_Components=0, Mechanic_Parts=0, Computer_Parts=0, Researching=0, \n",
    "    Architecture=0, Historic_Collection=1, Botany=0, Zoology=0, Physics=0, \n",
    "    Accounting=0, Economics=0, Sociology=0, Geography=0, Psychology=0, History=0, \n",
    "    Science=0, Business_Education=1, Chemistry=0, Mathematics=0, Biology=0, \n",
    "    Designing=0, Content_Writing=0, Crafting=0, Literature=0, Reading=0, \n",
    "    Cartooning=0, Debating=0, Astrology=0, Hindi=0, French=0, English=0, \n",
    "    Solving_Puzzles=1, Gymnastics=0, Yoga=0, Engineering=0, Doctor=0, Pharmacist=0, \n",
    "    Cycling=0, Knitting=0, Director=0, Journalism=0, Business=0, Listening_to_Music=0\n",
    ")\n",
    "\n"
   ]
  },
  {
   "cell_type": "code",
   "execution_count": 4,
   "id": "2682bf31-bc10-44fc-8832-750768faa273",
   "metadata": {},
   "outputs": [
    {
     "ename": "NameError",
     "evalue": "name 'final_recommendations' is not defined",
     "output_type": "error",
     "traceback": [
      "\u001b[1;31m---------------------------------------------------------------------------\u001b[0m",
      "\u001b[1;31mNameError\u001b[0m                                 Traceback (most recent call last)",
      "Cell \u001b[1;32mIn[4], line 1\u001b[0m\n\u001b[1;32m----> 1\u001b[0m \u001b[38;5;28;01mif\u001b[39;00m \u001b[43mfinal_recommendations\u001b[49m:\n\u001b[0;32m      2\u001b[0m     \u001b[38;5;28mprint\u001b[39m(\u001b[38;5;124m\"\u001b[39m\u001b[38;5;124mTop recommended studies with probabilities:\u001b[39m\u001b[38;5;124m\"\u001b[39m)\n\u001b[0;32m      3\u001b[0m     \u001b[38;5;28mprint\u001b[39m(\u001b[38;5;124m\"\u001b[39m\u001b[38;5;124m=\u001b[39m\u001b[38;5;124m\"\u001b[39m\u001b[38;5;241m*\u001b[39m\u001b[38;5;241m50\u001b[39m)\n",
      "\u001b[1;31mNameError\u001b[0m: name 'final_recommendations' is not defined"
     ]
    }
   ],
   "source": [
    "if final_recommendations:\n",
    "    print(\"Top recommended studies with probabilities:\")\n",
    "    print(\"=\"*50)\n",
    "    for class_name, probability in final_recommendations:\n",
    "        print(f\"{class_name} with probability {probability:.2f}\")\n",
    "else:\n",
    "    print(\"No recommendations returned.\")"
   ]
  },
  {
   "cell_type": "code",
   "execution_count": null,
   "id": "39047753-39fc-4fe4-9b88-c58543dab092",
   "metadata": {},
   "outputs": [],
   "source": []
  }
 ],
 "metadata": {
  "kernelspec": {
   "display_name": "Python 3 (ipykernel)",
   "language": "python",
   "name": "python3"
  },
  "language_info": {
   "codemirror_mode": {
    "name": "ipython",
    "version": 3
   },
   "file_extension": ".py",
   "mimetype": "text/x-python",
   "name": "python",
   "nbconvert_exporter": "python",
   "pygments_lexer": "ipython3",
   "version": "3.12.5"
  }
 },
 "nbformat": 4,
 "nbformat_minor": 5
}
